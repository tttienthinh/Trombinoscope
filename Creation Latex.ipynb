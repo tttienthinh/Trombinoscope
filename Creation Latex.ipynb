{
 "cells": [
  {
   "cell_type": "code",
   "execution_count": 27,
   "metadata": {
    "scrolled": true
   },
   "outputs": [],
   "source": [
    "# Importe les \"NOM Prénom.jpg\"\n",
    "folder = 'Anglais/'\n",
    "output = 'Anglais'\n",
    "\n",
    "import os\n",
    "liste = os.listdir(folder)\n",
    "liste.sort()\n",
    "\n",
    "import sys\n",
    "sys.stdout = open(f'{output}.tex', 'w')\n",
    "\n",
    "print(\"\\\\documentclass[a4paper, 11pt]{article}\")\n",
    "print(\"\\\\usepackage{caption}\")\n",
    "print(\"\\\\usepackage{subcaption}\")\n",
    "print(\"\\\\usepackage{graphicx}\")\n",
    "print(\"\\\\usepackage[left=1cm,right=1cm,top=1cm,bottom=2cm]{geometry}\")\n",
    "print(\"\\\\title{ANGLAIS MPSI A}\")\n",
    "print(\"\\\\author{HXI DIVINS !!!}\")\n",
    "print(\"\\\\date{2020-2021}\\n\")\n",
    "\n",
    "print(\"\\\\begin{document}\")\n",
    "print(\"\\\\maketitle\\n\")\n",
    "\n",
    "for i, name in enumerate(liste):\n",
    "    if i%5 == 0:\n",
    "        print(\"\\\\begin{figure}[!ht]\")\n",
    "    print(\"    \\\\begin{subfigure}[b]{0.18\\\\textwidth}\")\n",
    "    print(\"    \\\\captionsetup{justification=centering}\")\n",
    "    print(\"        \\\\includegraphics[angle=0, width=\\\\textwidth]{\" + f\"Photo/{name}\" + \"}\")\n",
    "    nom, prenom = name[:-4].split('_')\n",
    "    print(\"        \\\\caption*{\" + nom + \"\\\\\\\\\" + prenom + \"}\")\n",
    "    print(\"    \\\\end{subfigure}\\\\hspace{0.02\\\\textwidth}%\")\n",
    "    if i%5 == 4:\n",
    "        print(\"\\\\end{figure}\")\n",
    "if i%5 != 4:\n",
    "    print(\"\\\\end{figure}\")\n",
    "\n",
    "print(\"\\\\end{document}\")"
   ]
  },
  {
   "cell_type": "code",
   "execution_count": 28,
   "metadata": {},
   "outputs": [],
   "source": [
    "!pdflatex Anglais.tex"
   ]
  },
  {
   "cell_type": "code",
   "execution_count": 29,
   "metadata": {},
   "outputs": [],
   "source": [
    "!ps2pdf -dPDFSETTINGS=/prepress Anglais.pdf compress-Anglais.pdf"
   ]
  },
  {
   "cell_type": "code",
   "execution_count": null,
   "metadata": {},
   "outputs": [],
   "source": []
  }
 ],
 "metadata": {
  "kernelspec": {
   "display_name": "Python 3",
   "language": "python",
   "name": "python3"
  },
  "language_info": {
   "codemirror_mode": {
    "name": "ipython",
    "version": 3
   },
   "file_extension": ".py",
   "mimetype": "text/x-python",
   "name": "python",
   "nbconvert_exporter": "python",
   "pygments_lexer": "ipython3",
   "version": "3.8.2"
  }
 },
 "nbformat": 4,
 "nbformat_minor": 4
}
